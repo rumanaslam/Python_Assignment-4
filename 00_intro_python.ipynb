{
  "nbformat": 4,
  "nbformat_minor": 0,
  "metadata": {
    "colab": {
      "provenance": [],
      "authorship_tag": "ABX9TyO8LgoN1r1BPITIbAKzwRrT",
      "include_colab_link": true
    },
    "kernelspec": {
      "name": "python3",
      "display_name": "Python 3"
    },
    "language_info": {
      "name": "python"
    }
  },
  "cells": [
    {
      "cell_type": "markdown",
      "metadata": {
        "id": "view-in-github",
        "colab_type": "text"
      },
      "source": [
        "<a href=\"https://colab.research.google.com/github/rumanaslam/Python_Assignment-4/blob/main/00_intro_python.ipynb\" target=\"_parent\"><img src=\"https://colab.research.google.com/assets/colab-badge.svg\" alt=\"Open In Colab\"/></a>"
      ]
    },
    {
      "cell_type": "code",
      "execution_count": 38,
      "metadata": {
        "colab": {
          "base_uri": "https://localhost:8080/"
        },
        "id": "H73mf61tlpDG",
        "outputId": "4391f57c-7d7a-4890-c730-66da7ee89a9b"
      },
      "outputs": [
        {
          "output_type": "stream",
          "name": "stdout",
          "text": [
            "Add two numbers\n",
            "This application is for adding two numbers.\n",
            "Enter first number:56\n",
            "Enter second number:78\n",
            "The total sum of 56 and 78 is 134\n"
          ]
        }
      ],
      "source": [
        "print(\"01_Add two numbers\")\n",
        "\n",
        "def add():\n",
        "  print(\"This application is for adding two numbers.\")\n",
        "\n",
        "  first_number = int(input(\"Enter first number:\"))\n",
        "  second_number = int(input(\"Enter second number:\"))\n",
        "  total = int(first_number + second_number)\n",
        "  print(f'The total sum of {first_number} and {second_number} is {total}')\n",
        "\n",
        "if __name__ == \"__main__\":\n",
        "    add()"
      ]
    },
    {
      "cell_type": "code",
      "source": [
        "print(\"02_agreement_bot\")\n",
        "\n",
        "def bot():\n",
        "  animal = str(input(\"Enter an favorite animal?:\"))\n",
        "  print (f'My favorite animal is also {animal}')\n",
        "\n",
        "if __name__ == \"__main__\":\n",
        "  bot()"
      ],
      "metadata": {
        "colab": {
          "base_uri": "https://localhost:8080/"
        },
        "id": "PglXt9m_AF6w",
        "outputId": "9e993e05-599d-43a0-8a37-9c9242e002a1"
      },
      "execution_count": 44,
      "outputs": [
        {
          "output_type": "stream",
          "name": "stdout",
          "text": [
            "02_agreement_bot\n",
            "Enter an favorite animal?:cow\n",
            "My favorite animal is also cow\n"
          ]
        }
      ]
    },
    {
      "cell_type": "code",
      "source": [
        "print(\"03_fahrenheit_to_celsius\")\n",
        "\n",
        "def temp():\n",
        "  print(\"This code is converting for fahrenheit to celsius\")\n",
        "  fahrenheit_degree = float(input(\"Enter the temperature in fahrenheit:\"))\n",
        "  celsius_degree = (fahrenheit_degree - 32) *5.0/9.0\n",
        "  print(f'Temperature is : {fahrenheit_degree} = {celsius_degree}C')\n",
        "\n",
        "if __name__ == \"__main__\":\n",
        "  temp()"
      ],
      "metadata": {
        "colab": {
          "base_uri": "https://localhost:8080/"
        },
        "id": "qM00rVH5DZgj",
        "outputId": "ae5f4bd7-bfea-4813-e364-08336ca8ab12"
      },
      "execution_count": 48,
      "outputs": [
        {
          "output_type": "stream",
          "name": "stdout",
          "text": [
            "03_fahrenheit_to_celsius\n",
            "This code is converting for fahrenheit to celsius\n",
            "Enter the temperature in fahrenheit:55\n",
            "Temperature is : 55.0 = 12.777777777777779C\n"
          ]
        }
      ]
    },
    {
      "cell_type": "code",
      "source": [
        "print(\"04_how_old_are_they\")\n",
        "\n",
        "def age():\n",
        "  anton : int = 21\n",
        "  beth : int = 6 + anton\n",
        "  chen : int = 20 + beth\n",
        "  drew : int = chen + anton\n",
        "  ethan : int = chen\n",
        "\n",
        "  print(\"Anthon is \"+ str(anton) + \" years old\")\n",
        "  print(\"Beth is \"+ str(beth) + \" years old\")\n",
        "  print(\"Chen is \"+ str (chen) + \" years old\")\n",
        "  print(\"Drew is \"+ str(drew) + \" years old\")\n",
        "  print(\"Ethan is \" + str(ethan) + \" years old\")\n",
        "if __name__ == \"__main__\":\n",
        "  age()\n"
      ],
      "metadata": {
        "colab": {
          "base_uri": "https://localhost:8080/"
        },
        "id": "gr-Jb1x_Fiu5",
        "outputId": "44edcfb3-5b2e-419f-b3c5-a0d4d94ae500"
      },
      "execution_count": 2,
      "outputs": [
        {
          "output_type": "stream",
          "name": "stdout",
          "text": [
            "04_how_old_are_they\n",
            "Anthon is 21 years old\n",
            "Beth is 27 years old\n",
            "Chen is 47 years old\n",
            "Drew is 68 years old\n",
            "Ethan is 47 years old\n"
          ]
        }
      ]
    },
    {
      "cell_type": "code",
      "source": [
        "print(\"05_triangle_perimeter\")\n",
        "\n",
        "def triangle():\n",
        "  print(\"This is for calculating the perimeter of a triangle\")\n",
        "  side_a:float = float(input(\"Enter side a:\"))\n",
        "  side_b:float = float(input(\"Enter side b:\"))\n",
        "  side_c:float = float(input(\"Enter side c:\"))\n",
        "  total:float = float(side_a + side_b + side_c)\n",
        "  print(f'The perimeter of the triangle is {total} ')\n",
        "\n",
        "if __name__ == \"__main__\":\n",
        "  triangle()"
      ],
      "metadata": {
        "colab": {
          "base_uri": "https://localhost:8080/"
        },
        "id": "fYjvUKRVjOkS",
        "outputId": "4fd0e18a-a094-4b5b-85ac-96db12ffa57c"
      },
      "execution_count": 4,
      "outputs": [
        {
          "output_type": "stream",
          "name": "stdout",
          "text": [
            "05_triangle_perimeter\n",
            "This is for calculating the perimeter of a triangle\n",
            "Enter side a:67\n",
            "Enter side b:8\n",
            "Enter side c:9\n",
            "The perimeter of the triangle is 84.0 \n"
          ]
        }
      ]
    },
    {
      "cell_type": "code",
      "source": [
        "print(\"06_square_number\")\n",
        "\n",
        "def square_number():\n",
        "  print(\"The code is about to add to square of given numbers\")\n",
        "  num:float = float(input(\"Enter a number:\"))\n",
        "  total:float = float(num * num)\n",
        "  print(f'The square of {num} is {total}')\n",
        "if __name__ == \"__main__\":\n",
        "  square_number()\n"
      ],
      "metadata": {
        "colab": {
          "base_uri": "https://localhost:8080/"
        },
        "id": "srrzqHetnAJK",
        "outputId": "8f8a854b-67fc-4aee-9cf9-5b2b4174d0be"
      },
      "execution_count": 5,
      "outputs": [
        {
          "output_type": "stream",
          "name": "stdout",
          "text": [
            "06_square_number\n",
            "The code is about to add to square of given numbers\n",
            "Enter a number:6\n",
            "The square of 6.0 is 36.0\n"
          ]
        }
      ]
    }
  ]
}