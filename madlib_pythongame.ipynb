{
  "nbformat": 4,
  "nbformat_minor": 0,
  "metadata": {
    "colab": {
      "provenance": [],
      "authorship_tag": "ABX9TyOkdyAQh5KEqH7k+cVZ8KXo",
      "include_colab_link": true
    },
    "kernelspec": {
      "name": "python3",
      "display_name": "Python 3"
    },
    "language_info": {
      "name": "python"
    }
  },
  "cells": [
    {
      "cell_type": "markdown",
      "metadata": {
        "id": "view-in-github",
        "colab_type": "text"
      },
      "source": [
        "<a href=\"https://colab.research.google.com/github/rumanaslam/Python_Assignment-4/blob/main/madlib_pythongame.ipynb\" target=\"_parent\"><img src=\"https://colab.research.google.com/assets/colab-badge.svg\" alt=\"Open In Colab\"/></a>"
      ]
    },
    {
      "cell_type": "markdown",
      "source": [
        "# **Mad Lib Python Game**"
      ],
      "metadata": {
        "id": "XWW6WPgENmXV"
      }
    },
    {
      "cell_type": "code",
      "source": [
        "# Get user input for the story\n",
        "print(\"Welcome to Mad Libs!\")\n",
        "print(\"Please provide the following:\")\n",
        "\n",
        "name = input(\"Enter your name: \")\n",
        "color = input(\"Color: \")\n",
        "animal = input(\"Animal: \")\n",
        "food = input(\"Food: \")\n",
        "location = input(\"Location:\")\n",
        "vehicle = input(\"Vehicle:\")\n",
        "celebrity=input(\"Celebrity:\")\n",
        "object=input(\"Object:\")\n",
        "\n",
        " #create story\n",
        "print(\"\\nHere's My Mad Libs story:\")\n",
        "print(f\"One day, {name} went on a wild adventure to {location}. \")\n",
        "print(f\"They packed a bag with {food} and set off to explore the {color} terrain. \")\n",
        "print(f\"As they wandered through the forest, they came across a {animal}. \")\n",
        "print(f\"They decided to ride it like a {vehicle} and ended up at {celebrity}'s house. \" )\n",
        "print(f\"There, they found a mysterious {object} that changed their life forever!\")"
      ],
      "metadata": {
        "colab": {
          "base_uri": "https://localhost:8080/"
        },
        "id": "VqbvVKdKNw6W",
        "outputId": "019f9521-5c68-463c-f25f-bdf290bdbdb9"
      },
      "execution_count": null,
      "outputs": [
        {
          "output_type": "stream",
          "name": "stdout",
          "text": [
            "Welcome to Mad Libs!\n",
            "Please provide the following:\n",
            "Enter your name: Ruman\n",
            "Color: Black\n",
            "Animal: Cat\n",
            "Food: Briyani\n",
            "Location:Paris\n",
            "Vehicle:Train\n",
            "Celebrity:Imran Khan\n",
            "Object:Diamond\n",
            "\n",
            "Here's My Mad Libs story:\n",
            "One day, Ruman went on a wild adventure to Paris. \n",
            "They packed a bag with Briyani and set off to explore the Black terrain. \n",
            "As they wandered through the forest, they came across a Cat. \n",
            "They decided to ride it like a Train and ended up at Imran Khan's house. \n",
            "There, they found a mysterious Diamond that changed their life forever!\n"
          ]
        }
      ]
    }
  ]
}